{
 "cells": [
  {
   "cell_type": "markdown",
   "id": "9c296f1b",
   "metadata": {},
   "source": [
    "# **Import Libraries**"
   ]
  },
  {
   "cell_type": "code",
   "execution_count": 4,
   "id": "6329c5a6",
   "metadata": {},
   "outputs": [],
   "source": [
    "# Import Library Packages\n",
    "import pandas as pd\n",
    "import great_expectations as ge\n",
    "from great_expectations.data_context import FileDataContext"
   ]
  },
  {
   "cell_type": "markdown",
   "id": "3ed5ab2b",
   "metadata": {},
   "source": [
    "# **Create Data Context**"
   ]
  },
  {
   "cell_type": "code",
   "execution_count": 5,
   "id": "9c5f9179",
   "metadata": {},
   "outputs": [],
   "source": [
    "# Create data context\n",
    "context = FileDataContext.create(project_root_dir='./')"
   ]
  },
  {
   "cell_type": "markdown",
   "id": "5d86ffcf",
   "metadata": {},
   "source": [
    "# **Create Data Source and Asset**"
   ]
  },
  {
   "cell_type": "code",
   "execution_count": 6,
   "id": "22dd27d1",
   "metadata": {},
   "outputs": [],
   "source": [
    "# Create data source\n",
    "datasource = context.sources.add_pandas('main-datasource')\n",
    "\n",
    "# Create data asset\n",
    "path = './data/P2M3_iriel_aureleo_data_clean.csv'\n",
    "asset = datasource.add_csv_asset('mobile-device-usage', filepath_or_buffer=path)\n",
    "\n",
    "# Build batch request\n",
    "batch_request = asset.build_batch_request()"
   ]
  },
  {
   "cell_type": "markdown",
   "id": "57869bfd",
   "metadata": {},
   "source": [
    "# **Create an Expectation Suite**"
   ]
  },
  {
   "cell_type": "code",
   "execution_count": 7,
   "id": "606d555c",
   "metadata": {},
   "outputs": [
    {
     "data": {
      "application/vnd.jupyter.widget-view+json": {
       "model_id": "ab3d9a57419e44c7b714c798a60c6c25",
       "version_major": 2,
       "version_minor": 0
      },
      "text/plain": [
       "Calculating Metrics:   0%|          | 0/1 [00:00<?, ?it/s]"
      ]
     },
     "metadata": {},
     "output_type": "display_data"
    },
    {
     "data": {
      "text/html": [
       "<div>\n",
       "<style scoped>\n",
       "    .dataframe tbody tr th:only-of-type {\n",
       "        vertical-align: middle;\n",
       "    }\n",
       "\n",
       "    .dataframe tbody tr th {\n",
       "        vertical-align: top;\n",
       "    }\n",
       "\n",
       "    .dataframe thead th {\n",
       "        text-align: right;\n",
       "    }\n",
       "</style>\n",
       "<table border=\"1\" class=\"dataframe\">\n",
       "  <thead>\n",
       "    <tr style=\"text-align: right;\">\n",
       "      <th></th>\n",
       "      <th>age</th>\n",
       "      <th>attrition</th>\n",
       "      <th>businesstravel</th>\n",
       "      <th>dailyrate</th>\n",
       "      <th>department</th>\n",
       "      <th>distancefromhome</th>\n",
       "      <th>education</th>\n",
       "      <th>educationfield</th>\n",
       "      <th>employeecount</th>\n",
       "      <th>employeenumber</th>\n",
       "      <th>...</th>\n",
       "      <th>relationshipsatisfaction</th>\n",
       "      <th>standardhours</th>\n",
       "      <th>stockoptionlevel</th>\n",
       "      <th>totalworkingyears</th>\n",
       "      <th>trainingtimeslastyear</th>\n",
       "      <th>worklifebalance</th>\n",
       "      <th>yearsatcompany</th>\n",
       "      <th>yearsincurrentrole</th>\n",
       "      <th>yearssincelastpromotion</th>\n",
       "      <th>yearswithcurrmanager</th>\n",
       "    </tr>\n",
       "  </thead>\n",
       "  <tbody>\n",
       "    <tr>\n",
       "      <th>0</th>\n",
       "      <td>41</td>\n",
       "      <td>Yes</td>\n",
       "      <td>Travel_Rarely</td>\n",
       "      <td>1102</td>\n",
       "      <td>Sales</td>\n",
       "      <td>1</td>\n",
       "      <td>2</td>\n",
       "      <td>Life Sciences</td>\n",
       "      <td>1</td>\n",
       "      <td>1</td>\n",
       "      <td>...</td>\n",
       "      <td>1</td>\n",
       "      <td>80</td>\n",
       "      <td>0</td>\n",
       "      <td>8</td>\n",
       "      <td>0</td>\n",
       "      <td>1</td>\n",
       "      <td>6</td>\n",
       "      <td>4</td>\n",
       "      <td>0</td>\n",
       "      <td>5</td>\n",
       "    </tr>\n",
       "    <tr>\n",
       "      <th>1</th>\n",
       "      <td>49</td>\n",
       "      <td>No</td>\n",
       "      <td>Travel_Frequently</td>\n",
       "      <td>279</td>\n",
       "      <td>Research &amp; Development</td>\n",
       "      <td>8</td>\n",
       "      <td>1</td>\n",
       "      <td>Life Sciences</td>\n",
       "      <td>1</td>\n",
       "      <td>2</td>\n",
       "      <td>...</td>\n",
       "      <td>4</td>\n",
       "      <td>80</td>\n",
       "      <td>1</td>\n",
       "      <td>10</td>\n",
       "      <td>3</td>\n",
       "      <td>3</td>\n",
       "      <td>10</td>\n",
       "      <td>7</td>\n",
       "      <td>1</td>\n",
       "      <td>7</td>\n",
       "    </tr>\n",
       "    <tr>\n",
       "      <th>2</th>\n",
       "      <td>37</td>\n",
       "      <td>Yes</td>\n",
       "      <td>Travel_Rarely</td>\n",
       "      <td>1373</td>\n",
       "      <td>Research &amp; Development</td>\n",
       "      <td>2</td>\n",
       "      <td>2</td>\n",
       "      <td>Other</td>\n",
       "      <td>1</td>\n",
       "      <td>4</td>\n",
       "      <td>...</td>\n",
       "      <td>2</td>\n",
       "      <td>80</td>\n",
       "      <td>0</td>\n",
       "      <td>7</td>\n",
       "      <td>3</td>\n",
       "      <td>3</td>\n",
       "      <td>0</td>\n",
       "      <td>0</td>\n",
       "      <td>0</td>\n",
       "      <td>0</td>\n",
       "    </tr>\n",
       "    <tr>\n",
       "      <th>3</th>\n",
       "      <td>33</td>\n",
       "      <td>No</td>\n",
       "      <td>Travel_Frequently</td>\n",
       "      <td>1392</td>\n",
       "      <td>Research &amp; Development</td>\n",
       "      <td>3</td>\n",
       "      <td>4</td>\n",
       "      <td>Life Sciences</td>\n",
       "      <td>1</td>\n",
       "      <td>5</td>\n",
       "      <td>...</td>\n",
       "      <td>3</td>\n",
       "      <td>80</td>\n",
       "      <td>0</td>\n",
       "      <td>8</td>\n",
       "      <td>3</td>\n",
       "      <td>3</td>\n",
       "      <td>8</td>\n",
       "      <td>7</td>\n",
       "      <td>3</td>\n",
       "      <td>0</td>\n",
       "    </tr>\n",
       "    <tr>\n",
       "      <th>4</th>\n",
       "      <td>27</td>\n",
       "      <td>No</td>\n",
       "      <td>Travel_Rarely</td>\n",
       "      <td>591</td>\n",
       "      <td>Research &amp; Development</td>\n",
       "      <td>2</td>\n",
       "      <td>1</td>\n",
       "      <td>Medical</td>\n",
       "      <td>1</td>\n",
       "      <td>7</td>\n",
       "      <td>...</td>\n",
       "      <td>4</td>\n",
       "      <td>80</td>\n",
       "      <td>1</td>\n",
       "      <td>6</td>\n",
       "      <td>3</td>\n",
       "      <td>3</td>\n",
       "      <td>2</td>\n",
       "      <td>2</td>\n",
       "      <td>2</td>\n",
       "      <td>2</td>\n",
       "    </tr>\n",
       "  </tbody>\n",
       "</table>\n",
       "<p>5 rows × 35 columns</p>\n",
       "</div>"
      ],
      "text/plain": [
       "   age attrition     businesstravel  dailyrate              department  \\\n",
       "0   41       Yes      Travel_Rarely       1102                   Sales   \n",
       "1   49        No  Travel_Frequently        279  Research & Development   \n",
       "2   37       Yes      Travel_Rarely       1373  Research & Development   \n",
       "3   33        No  Travel_Frequently       1392  Research & Development   \n",
       "4   27        No      Travel_Rarely        591  Research & Development   \n",
       "\n",
       "   distancefromhome  education educationfield  employeecount  employeenumber  \\\n",
       "0                 1          2  Life Sciences              1               1   \n",
       "1                 8          1  Life Sciences              1               2   \n",
       "2                 2          2          Other              1               4   \n",
       "3                 3          4  Life Sciences              1               5   \n",
       "4                 2          1        Medical              1               7   \n",
       "\n",
       "   ...  relationshipsatisfaction standardhours  stockoptionlevel  \\\n",
       "0  ...                         1            80                 0   \n",
       "1  ...                         4            80                 1   \n",
       "2  ...                         2            80                 0   \n",
       "3  ...                         3            80                 0   \n",
       "4  ...                         4            80                 1   \n",
       "\n",
       "   totalworkingyears  trainingtimeslastyear worklifebalance  yearsatcompany  \\\n",
       "0                  8                      0               1               6   \n",
       "1                 10                      3               3              10   \n",
       "2                  7                      3               3               0   \n",
       "3                  8                      3               3               8   \n",
       "4                  6                      3               3               2   \n",
       "\n",
       "  yearsincurrentrole  yearssincelastpromotion  yearswithcurrmanager  \n",
       "0                  4                        0                     5  \n",
       "1                  7                        1                     7  \n",
       "2                  0                        0                     0  \n",
       "3                  7                        3                     0  \n",
       "4                  2                        2                     2  \n",
       "\n",
       "[5 rows x 35 columns]"
      ]
     },
     "execution_count": 7,
     "metadata": {},
     "output_type": "execute_result"
    }
   ],
   "source": [
    "# Create an expectation suite\n",
    "context.add_or_update_expectation_suite('gx_val_suite')\n",
    "\n",
    "# Create a validator using above expectation suite\n",
    "validator = context.get_validator(\n",
    "    batch_request = batch_request,\n",
    "    expectation_suite_name = 'gx_val_suite'\n",
    ")\n",
    "\n",
    "validator.head()"
   ]
  },
  {
   "cell_type": "markdown",
   "id": "325021bd",
   "metadata": {},
   "source": [
    "# **Expectation**"
   ]
  },
  {
   "cell_type": "markdown",
   "id": "a12c3a1f",
   "metadata": {},
   "source": [
    "## Expectation 1: to be unique\n",
    "Validasi Nilai Unik pada Kolom `employeenumber`"
   ]
  },
  {
   "cell_type": "code",
   "execution_count": 8,
   "id": "d1d1b777",
   "metadata": {},
   "outputs": [
    {
     "data": {
      "application/vnd.jupyter.widget-view+json": {
       "model_id": "9d07bbe97ce441f9ad054f61cecb3094",
       "version_major": 2,
       "version_minor": 0
      },
      "text/plain": [
       "Calculating Metrics:   0%|          | 0/8 [00:00<?, ?it/s]"
      ]
     },
     "metadata": {},
     "output_type": "display_data"
    },
    {
     "data": {
      "text/plain": [
       "{\n",
       "  \"success\": true,\n",
       "  \"result\": {\n",
       "    \"element_count\": 1470,\n",
       "    \"unexpected_count\": 0,\n",
       "    \"unexpected_percent\": 0.0,\n",
       "    \"partial_unexpected_list\": [],\n",
       "    \"missing_count\": 0,\n",
       "    \"missing_percent\": 0.0,\n",
       "    \"unexpected_percent_total\": 0.0,\n",
       "    \"unexpected_percent_nonmissing\": 0.0\n",
       "  },\n",
       "  \"meta\": {},\n",
       "  \"exception_info\": {\n",
       "    \"raised_exception\": false,\n",
       "    \"exception_traceback\": null,\n",
       "    \"exception_message\": null\n",
       "  }\n",
       "}"
      ]
     },
     "execution_count": 8,
     "metadata": {},
     "output_type": "execute_result"
    }
   ],
   "source": [
    "validator.expect_column_values_to_be_unique(\"employeenumber\")"
   ]
  },
  {
   "cell_type": "markdown",
   "id": "1daa65e7",
   "metadata": {},
   "source": [
    "Kolom `employeenumber` berfungsi sebagai identifikasi unik untuk setiap karyawan, mirip seperti Primary Key. Karena setiap karyawan seharusnya hanya memiliki satu baris data, maka nilainya harus unik dan tidak boleh ada duplikat.\n",
    "\n",
    "Kolom `employeenumber` telah berhasil divalidasi menggunakan expectation `expect_column_values_to_be_unique`, dan menghasilkan status `\"success\": true`. Dari total 1.470 baris data, tidak ditemukan adanya nilai duplikat maupun nilai kosong, yang ditunjukkan oleh `unexpected_count = 0` dan `missing_count = 0`. Hal ini menunjukkan bahwa seluruh nilai dalam kolom tersebut bersifat unik dan valid, sehingga `employeenumber` dapat digunakan sebagai **kolom identifikasi utama (primary key)** dalam proses analisis dan pipeline data. Validasi ini memastikan integritas data pada level individu karyawan tetap terjaga dan tidak terjadi redundansi."
   ]
  },
  {
   "cell_type": "markdown",
   "id": "21a14a27",
   "metadata": {},
   "source": [
    "## Expectation 2: to be between min_value and max_value\n",
    "\n",
    "Validasi Rentang Umur pada Kolom `age`"
   ]
  },
  {
   "cell_type": "code",
   "execution_count": 9,
   "id": "2afe5510",
   "metadata": {},
   "outputs": [
    {
     "data": {
      "application/vnd.jupyter.widget-view+json": {
       "model_id": "3bf395607f724d6783d44605a239bf84",
       "version_major": 2,
       "version_minor": 0
      },
      "text/plain": [
       "Calculating Metrics:   0%|          | 0/8 [00:00<?, ?it/s]"
      ]
     },
     "metadata": {},
     "output_type": "display_data"
    },
    {
     "data": {
      "text/plain": [
       "{\n",
       "  \"success\": true,\n",
       "  \"result\": {\n",
       "    \"element_count\": 1470,\n",
       "    \"unexpected_count\": 0,\n",
       "    \"unexpected_percent\": 0.0,\n",
       "    \"partial_unexpected_list\": [],\n",
       "    \"missing_count\": 0,\n",
       "    \"missing_percent\": 0.0,\n",
       "    \"unexpected_percent_total\": 0.0,\n",
       "    \"unexpected_percent_nonmissing\": 0.0\n",
       "  },\n",
       "  \"meta\": {},\n",
       "  \"exception_info\": {\n",
       "    \"raised_exception\": false,\n",
       "    \"exception_traceback\": null,\n",
       "    \"exception_message\": null\n",
       "  }\n",
       "}"
      ]
     },
     "execution_count": 9,
     "metadata": {},
     "output_type": "execute_result"
    }
   ],
   "source": [
    "validator.expect_column_values_to_be_between(\n",
    "    column=\"age\", min_value=18, max_value=60\n",
    ")"
   ]
  },
  {
   "cell_type": "markdown",
   "id": "9c5839c1",
   "metadata": {},
   "source": [
    "Kolom `age` menunjukkan usia karyawan. Untuk memastikan tidak ada data anomali, dilakukan validasi agar usia berada dalam rentang 18 hingga 60 tahun, yaitu usia kerja aktif yang wajar pada kebanyakan perusahaan.\n",
    "\n",
    "Kolom `age` berhasil melewati proses validasi dengan menggunakan expectation `expect_column_values_to_be_between` dalam rentang nilai 18 hingga 60. Seluruh 1.470 baris data memiliki nilai usia yang berada dalam batas yang ditentukan, tanpa ditemukan nilai yang berada di luar rentang maupun nilai kosong. Hasil ini ditunjukkan dengan `unexpected_count = 0` dan `missing_count = 0`, serta status validasi `\"success\": true`. Artinya, data pada kolom `age` telah memenuhi kriteria kualitas untuk digunakan sebagai variabel numerik yang valid, serta mencerminkan rentang usia kerja yang wajar dalam lingkungan profesional."
   ]
  },
  {
   "cell_type": "markdown",
   "id": "620aa28e",
   "metadata": {},
   "source": [
    "## Expectation 3: to be in set\n",
    "\n",
    "Validasi Kesesuaian Nilai pada Kolom `gender`"
   ]
  },
  {
   "cell_type": "code",
   "execution_count": 10,
   "id": "7e10994f",
   "metadata": {},
   "outputs": [
    {
     "data": {
      "application/vnd.jupyter.widget-view+json": {
       "model_id": "6087a238e8c5460ab8cff7f02c61b902",
       "version_major": 2,
       "version_minor": 0
      },
      "text/plain": [
       "Calculating Metrics:   0%|          | 0/8 [00:00<?, ?it/s]"
      ]
     },
     "metadata": {},
     "output_type": "display_data"
    },
    {
     "data": {
      "text/plain": [
       "{\n",
       "  \"success\": true,\n",
       "  \"result\": {\n",
       "    \"element_count\": 1470,\n",
       "    \"unexpected_count\": 0,\n",
       "    \"unexpected_percent\": 0.0,\n",
       "    \"partial_unexpected_list\": [],\n",
       "    \"missing_count\": 0,\n",
       "    \"missing_percent\": 0.0,\n",
       "    \"unexpected_percent_total\": 0.0,\n",
       "    \"unexpected_percent_nonmissing\": 0.0\n",
       "  },\n",
       "  \"meta\": {},\n",
       "  \"exception_info\": {\n",
       "    \"raised_exception\": false,\n",
       "    \"exception_traceback\": null,\n",
       "    \"exception_message\": null\n",
       "  }\n",
       "}"
      ]
     },
     "execution_count": 10,
     "metadata": {},
     "output_type": "execute_result"
    }
   ],
   "source": [
    "validator.expect_column_values_to_be_in_set(\n",
    "    column=\"gender\", value_set=[\"Male\", \"Female\"]\n",
    ")"
   ]
  },
  {
   "cell_type": "markdown",
   "id": "b5c564db",
   "metadata": {},
   "source": [
    "Kolom `gender` hanya boleh berisi dua nilai yang valid, yaitu “Male” dan “Female”. Validasi ini dilakukan untuk memastikan tidak ada kesalahan input atau nilai tak dikenal (seperti typo).\n",
    "\n",
    "Kolom `gender` berhasil divalidasi menggunakan expectation `expect_column_values_to_be_in_set` dengan nilai yang diizinkan adalah \"Male\" dan \"Female\". Hasil validasi menunjukkan bahwa seluruh 1.470 data berada dalam set yang telah ditentukan, tanpa ada nilai yang menyimpang atau kosong (`unexpected_count = 0`, `missing_count = 0`). Dengan status `\"success\": true`, ini menandakan bahwa data pada kolom `gender` telah terstandarisasi dengan baik dan tidak mengandung kesalahan input seperti typo atau kategori tidak dikenal. Validasi ini penting untuk menjaga konsistensi analisis demografis dan segmentasi berbasis gender dalam laporan HR."
   ]
  },
  {
   "cell_type": "markdown",
   "id": "4e213f87",
   "metadata": {},
   "source": [
    "## Expectation 4: to be in type list\n",
    "Validasi Tipe Data pada Kolom `monthlyincome`"
   ]
  },
  {
   "cell_type": "code",
   "execution_count": 11,
   "id": "dd47d6c7",
   "metadata": {},
   "outputs": [
    {
     "data": {
      "application/vnd.jupyter.widget-view+json": {
       "model_id": "0b843756b3d245ed928ba34958abcd4f",
       "version_major": 2,
       "version_minor": 0
      },
      "text/plain": [
       "Calculating Metrics:   0%|          | 0/1 [00:00<?, ?it/s]"
      ]
     },
     "metadata": {},
     "output_type": "display_data"
    },
    {
     "data": {
      "text/plain": [
       "{\n",
       "  \"success\": true,\n",
       "  \"result\": {\n",
       "    \"observed_value\": \"int64\"\n",
       "  },\n",
       "  \"meta\": {},\n",
       "  \"exception_info\": {\n",
       "    \"raised_exception\": false,\n",
       "    \"exception_traceback\": null,\n",
       "    \"exception_message\": null\n",
       "  }\n",
       "}"
      ]
     },
     "execution_count": 11,
     "metadata": {},
     "output_type": "execute_result"
    }
   ],
   "source": [
    "validator.expect_column_values_to_be_of_type(\n",
    "    column=\"monthlyincome\", type_=\"int64\"\n",
    ")"
   ]
  },
  {
   "cell_type": "markdown",
   "id": "39fecf79",
   "metadata": {},
   "source": [
    "Kolom `monthlyincome` menunjukkan jumlah pendapatan bulanan dan harus bertipe numerik (integer). Validasi ini penting agar kolom ini bisa digunakan dalam perhitungan statistik dan agregasi tanpa error.\n",
    "\n",
    "Kolom `monthlyincome` telah divalidasi menggunakan expectation `expect_column_values_to_be_of_type` untuk memastikan bahwa seluruh data pada kolom tersebut bertipe `int64`. Hasil validasi menunjukkan bahwa tipe data yang teramati (`observed_value`) adalah int64, sesuai dengan ekspektasi, dan validasi berhasil dengan status `\"success\": true`. Validasi ini memastikan bahwa kolom `monthlyincome` dapat digunakan secara aman dalam proses perhitungan numerik seperti agregasi statistik, segmentasi berdasarkan penghasilan, atau analisis regresi, tanpa risiko kesalahan tipe data yang dapat mengganggu proses analitik lanjutan."
   ]
  },
  {
   "cell_type": "markdown",
   "id": "0100e691",
   "metadata": {},
   "source": [
    "\n",
    "## Expectation 5: to be max between\n",
    "\n",
    "Validasi Batas Maksimum pada Kolom `trainingtimeslastyear`"
   ]
  },
  {
   "cell_type": "code",
   "execution_count": null,
   "id": "7e6d3622",
   "metadata": {},
   "outputs": [
    {
     "data": {
      "application/vnd.jupyter.widget-view+json": {
       "model_id": "671199ddfc6e4883b7a52ec748ada1c2",
       "version_major": 2,
       "version_minor": 0
      },
      "text/plain": [
       "Calculating Metrics:   0%|          | 0/4 [00:00<?, ?it/s]"
      ]
     },
     "metadata": {},
     "output_type": "display_data"
    },
    {
     "data": {
      "text/plain": [
       "{\n",
       "  \"success\": true,\n",
       "  \"result\": {\n",
       "    \"observed_value\": 6\n",
       "  },\n",
       "  \"meta\": {},\n",
       "  \"exception_info\": {\n",
       "    \"raised_exception\": false,\n",
       "    \"exception_traceback\": null,\n",
       "    \"exception_message\": null\n",
       "  }\n",
       "}"
      ]
     },
     "execution_count": 12,
     "metadata": {},
     "output_type": "execute_result"
    }
   ],
   "source": [
    "validator.expect_column_max_to_be_between(\n",
    "    column=\"trainingtimeslastyear\", min_value=1, max_value=10\n",
    ")"
   ]
  },
  {
   "cell_type": "markdown",
   "id": "eb05fa91",
   "metadata": {},
   "source": [
    "Expectation ini digunakan untuk memastikan bahwa nilai maksimum dari jumlah pelatihan yang diikuti karyawan dalam setahun (`trainingtimeslastyear`) berada dalam batas yang wajar, yaitu antara 1 hingga 10 kali. \n",
    "\n",
    "Hasil validasi menunjukkan bahwa nilai maksimum berada dalam rentang yang ditentukan, dan validasi berhasil dijalankan dengan status `\"success\": true\"`. Hal ini menandakan bahwa data pelatihan tidak mengandung nilai ekstrem yang mencurigakan dan secara logis sesuai dengan kebijakan pelatihan di perusahaan. Validasi ini penting untuk menjamin akurasi saat melakukan analisis hubungan antara frekuensi pelatihan dan tingkat retensi atau performa karyawan."
   ]
  },
  {
   "cell_type": "markdown",
   "id": "da89cb2f",
   "metadata": {},
   "source": [
    "## Expectation 6: to match regex\n",
    "\n",
    "Validasi Format Nilai pada Kolom `over18`"
   ]
  },
  {
   "cell_type": "code",
   "execution_count": 13,
   "id": "c18ccfc2",
   "metadata": {},
   "outputs": [
    {
     "data": {
      "application/vnd.jupyter.widget-view+json": {
       "model_id": "b21c0aa4cc38438098ac9e8e2ae54dc0",
       "version_major": 2,
       "version_minor": 0
      },
      "text/plain": [
       "Calculating Metrics:   0%|          | 0/8 [00:00<?, ?it/s]"
      ]
     },
     "metadata": {},
     "output_type": "display_data"
    },
    {
     "data": {
      "text/plain": [
       "{\n",
       "  \"success\": true,\n",
       "  \"result\": {\n",
       "    \"element_count\": 1470,\n",
       "    \"unexpected_count\": 0,\n",
       "    \"unexpected_percent\": 0.0,\n",
       "    \"partial_unexpected_list\": [],\n",
       "    \"missing_count\": 0,\n",
       "    \"missing_percent\": 0.0,\n",
       "    \"unexpected_percent_total\": 0.0,\n",
       "    \"unexpected_percent_nonmissing\": 0.0\n",
       "  },\n",
       "  \"meta\": {},\n",
       "  \"exception_info\": {\n",
       "    \"raised_exception\": false,\n",
       "    \"exception_traceback\": null,\n",
       "    \"exception_message\": null\n",
       "  }\n",
       "}"
      ]
     },
     "execution_count": 13,
     "metadata": {},
     "output_type": "execute_result"
    }
   ],
   "source": [
    "validator.expect_column_values_to_match_regex(\n",
    "    column=\"over18\", regex=\"^Y$\"\n",
    ")"
   ]
  },
  {
   "cell_type": "markdown",
   "id": "8620d0fa",
   "metadata": {},
   "source": [
    "Kolom `over18` seharusnya hanya berisi nilai \"Y\" (Yes). Validasi regex memastikan tidak ada nilai selain \"Y\" yang lolos ke data, misalnya nilai kosong, null, atau typo seperti \"YES\".\n",
    "\n",
    "Kolom `over18` divalidasi menggunakan expectation `expect_column_values_to_match_regex` dengan pola ekspresi reguler `^Y$`, yang berarti hanya menerima nilai \"Y\" secara eksplisit dan tidak mengizinkan variasi lain. Hasil validasi menunjukkan bahwa seluruh 1.470 baris data sesuai dengan pola yang ditentukan, tanpa ada nilai yang menyimpang ataupun kosong (`unexpected_count = 0`, `missing_count = 0`). Status `\"success\": true\"` menegaskan bahwa data dalam kolom ini telah terstandarisasi dengan baik. Validasi ini penting untuk menjaga konsistensi dalam data kategori biner dan mencegah kesalahan logika akibat nilai yang tidak seragam."
   ]
  },
  {
   "cell_type": "markdown",
   "id": "9d5b0020",
   "metadata": {},
   "source": [
    "## Expectation 7: to be not null\n",
    "\n",
    "Validasi Ketidakbolehan Nilai Kosong pada Kolom `jobrole`"
   ]
  },
  {
   "cell_type": "code",
   "execution_count": 14,
   "id": "03cb0ea2",
   "metadata": {},
   "outputs": [
    {
     "data": {
      "application/vnd.jupyter.widget-view+json": {
       "model_id": "fe5bb650c9de4c47ad655ed875564a03",
       "version_major": 2,
       "version_minor": 0
      },
      "text/plain": [
       "Calculating Metrics:   0%|          | 0/6 [00:00<?, ?it/s]"
      ]
     },
     "metadata": {},
     "output_type": "display_data"
    },
    {
     "data": {
      "text/plain": [
       "{\n",
       "  \"success\": true,\n",
       "  \"result\": {\n",
       "    \"element_count\": 1470,\n",
       "    \"unexpected_count\": 0,\n",
       "    \"unexpected_percent\": 0.0,\n",
       "    \"partial_unexpected_list\": []\n",
       "  },\n",
       "  \"meta\": {},\n",
       "  \"exception_info\": {\n",
       "    \"raised_exception\": false,\n",
       "    \"exception_traceback\": null,\n",
       "    \"exception_message\": null\n",
       "  }\n",
       "}"
      ]
     },
     "execution_count": 14,
     "metadata": {},
     "output_type": "execute_result"
    }
   ],
   "source": [
    "validator.expect_column_values_to_not_be_null(\"jobrole\")"
   ]
  },
  {
   "cell_type": "markdown",
   "id": "f9760267",
   "metadata": {},
   "source": [
    "Expectation ini digunakan untuk memastikan bahwa seluruh baris pada kolom `jobrole` memiliki nilai yang terisi dan tidak terdapat nilai kosong (null). Kolom ini sangat penting karena merepresentasikan posisi atau jabatan karyawan, yang merupakan variabel kunci dalam analisis segmentasi dan perilaku attrition. Hasil validasi menunjukkan bahwa dari total 1.470 baris data, tidak ditemukan nilai kosong (`unexpected_count = 0`), dan validasi berhasil dengan status `\"success\": true\"`. Hal ini menunjukkan bahwa informasi jabatan telah lengkap dan siap digunakan dalam analisis lebih lanjut, termasuk dalam visualisasi peran kerja terhadap tingkat keluar-masuk karyawan."
   ]
  },
  {
   "cell_type": "markdown",
   "id": "dd3312c1",
   "metadata": {},
   "source": [
    "# **Save Expectation Suite**"
   ]
  },
  {
   "cell_type": "code",
   "execution_count": 15,
   "id": "98ece385",
   "metadata": {},
   "outputs": [],
   "source": [
    "# Simpan suite \n",
    "validator.save_expectation_suite(discard_failed_expectations=False)"
   ]
  },
  {
   "cell_type": "markdown",
   "id": "f41ebfbf",
   "metadata": {},
   "source": [
    "# **Checkpoint**"
   ]
  },
  {
   "cell_type": "code",
   "execution_count": 16,
   "id": "f028e628",
   "metadata": {},
   "outputs": [
    {
     "data": {
      "application/vnd.jupyter.widget-view+json": {
       "model_id": "aae797cb1e91414faf27b6f613cb9336",
       "version_major": 2,
       "version_minor": 0
      },
      "text/plain": [
       "Calculating Metrics:   0%|          | 0/37 [00:00<?, ?it/s]"
      ]
     },
     "metadata": {},
     "output_type": "display_data"
    }
   ],
   "source": [
    "checkpoint = context.add_or_update_checkpoint(\n",
    "    name=\"gx_val_checkpoint\",\n",
    "    validator=validator\n",
    ")\n",
    "\n",
    "checkpoint_result = checkpoint.run()"
   ]
  },
  {
   "cell_type": "markdown",
   "id": "db2fe371",
   "metadata": {},
   "source": [
    "# **Create Data Docs**"
   ]
  },
  {
   "cell_type": "code",
   "execution_count": 17,
   "id": "9493c02a",
   "metadata": {},
   "outputs": [
    {
     "data": {
      "text/plain": [
       "{'local_site': 'file://c:\\\\Users\\\\USER\\\\Documents\\\\Hacktiv8\\\\P2\\\\M3\\\\p2-ftds027-hck-m3-irielarleo\\\\gx\\\\uncommitted/data_docs/local_site/index.html'}"
      ]
     },
     "execution_count": 17,
     "metadata": {},
     "output_type": "execute_result"
    }
   ],
   "source": [
    "# Buat dokumentasi HTML hasil validasi\n",
    "context.build_data_docs()"
   ]
  },
  {
   "cell_type": "markdown",
   "id": "8619e2a1",
   "metadata": {},
   "source": [
    "# **Conclution**"
   ]
  },
  {
   "cell_type": "markdown",
   "id": "9e144c44",
   "metadata": {},
   "source": [
    "Notebook ini digunakan untuk melakukan validasi kualitas data menggunakan **Great Expectations** terhadap dataset `P2M3_iriel_aureleo_data_clean.csv`, yang telah melalui proses pembersihan dan normalisasi sebelumnya. Validasi dilakukan melalui **7 jenis expectation** yang semuanya berhasil dijalankan dengan status `\"success\": true\"`, tanpa ditemukan nilai yang melanggar aturan validasi.\n",
    "\n",
    "Adapun jenis expectation yang digunakan mencakup:\n",
    "\n",
    "- **Unik** – untuk memastikan kolom `employeenumber` berfungsi sebagai primary key.\n",
    "\n",
    "- **Nilai dalam rentang** – untuk memastikan usia (`age`) berada dalam batas usia kerja yang wajar.\n",
    "\n",
    "- **Nilai dalam set tertentu** – untuk menjamin bahwa nilai `gender` hanya terdiri dari \"Male\" atau \"Female\".\n",
    "\n",
    "- **Tipe data** – untuk memastikan `monthlyincome` bertipe numerik (int64).\n",
    "\n",
    "- **Batas maksimum nilai** – pada `trainingtimeslastyear`, agar tidak terdapat anomali dalam frekuensi pelatihan.\n",
    "\n",
    "- **Format nilai dengan regex** – memastikan bahwa kolom `over18` hanya berisi \"Y\" sebagai bentuk standar.\n",
    "\n",
    "- **Tidak mengandung nilai kosong** – pada kolom `jobrole`, untuk menjamin kelengkapan informasi jabatan.\n",
    "\n",
    "Seluruh expectation dipilih agar mencakup beragam aspek validasi (keunikan, rentang, kategori, tipe data, nilai maksimum, format, dan missing value). Dengan hasil validasi yang sukses, dapat disimpulkan bahwa data telah memenuhi standar kualitas."
   ]
  }
 ],
 "metadata": {
  "kernelspec": {
   "display_name": "data_env",
   "language": "python",
   "name": "python3"
  },
  "language_info": {
   "codemirror_mode": {
    "name": "ipython",
    "version": 3
   },
   "file_extension": ".py",
   "mimetype": "text/x-python",
   "name": "python",
   "nbconvert_exporter": "python",
   "pygments_lexer": "ipython3",
   "version": "3.10.16"
  }
 },
 "nbformat": 4,
 "nbformat_minor": 5
}
